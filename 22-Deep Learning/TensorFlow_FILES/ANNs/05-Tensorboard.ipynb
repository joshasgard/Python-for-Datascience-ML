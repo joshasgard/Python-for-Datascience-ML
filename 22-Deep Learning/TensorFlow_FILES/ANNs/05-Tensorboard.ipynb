{
 "cells": [
  {
   "cell_type": "markdown",
   "metadata": {},
   "source": [
    "<a href=\"https://www.pieriandata.com\"><img src=\"../Pierian_Data_Logo.PNG\"></a>\n",
    "<strong><center>Copyright by Pierian Data Inc.</center></strong> \n",
    "<strong><center>Created by Jose Marcial Portilla.</center></strong>"
   ]
  },
  {
   "cell_type": "markdown",
   "metadata": {},
   "source": [
    "# Tensorboard\n",
    "\n",
    "---\n",
    "---\n",
    "\n",
    "**NOTE: You must watch the corresponding video to understand this lecture. This notebook can't serve as a full guide. Please watch the video BEFORE posting questions to the QA forum.**\n",
    "\n",
    "---\n",
    "---\n",
    "\n",
    "Let's explore the built in data visualization capabilities that come with Tensorboard.\n",
    "\n",
    "Full official tutorial available here: https://www.tensorflow.org/tensorboard/get_started\n",
    "\n",
    "## Data"
   ]
  },
  {
   "cell_type": "code",
   "execution_count": 1,
   "metadata": {},
   "outputs": [],
   "source": [
    "import pandas as pd\n",
    "import numpy as np"
   ]
  },
  {
   "cell_type": "code",
   "execution_count": 2,
   "metadata": {},
   "outputs": [],
   "source": [
    "df = pd.read_csv('../DATA/cancer_classification.csv')"
   ]
  },
  {
   "cell_type": "markdown",
   "metadata": {},
   "source": [
    "### Train Test Split"
   ]
  },
  {
   "cell_type": "code",
   "execution_count": 3,
   "metadata": {},
   "outputs": [],
   "source": [
    "X = df.drop('benign_0__mal_1',axis=1).values\n",
    "y = df['benign_0__mal_1'].values"
   ]
  },
  {
   "cell_type": "code",
   "execution_count": 4,
   "metadata": {},
   "outputs": [],
   "source": [
    "from sklearn.model_selection import train_test_split"
   ]
  },
  {
   "cell_type": "code",
   "execution_count": 5,
   "metadata": {},
   "outputs": [],
   "source": [
    "X_train, X_test, y_train, y_test = train_test_split(X,y,test_size=0.25,random_state=101)"
   ]
  },
  {
   "cell_type": "markdown",
   "metadata": {},
   "source": [
    "\n",
    "### Scaling Data"
   ]
  },
  {
   "cell_type": "code",
   "execution_count": 6,
   "metadata": {},
   "outputs": [],
   "source": [
    "from sklearn.preprocessing import MinMaxScaler"
   ]
  },
  {
   "cell_type": "code",
   "execution_count": 7,
   "metadata": {},
   "outputs": [],
   "source": [
    "scaler = MinMaxScaler()"
   ]
  },
  {
   "cell_type": "code",
   "execution_count": 8,
   "metadata": {},
   "outputs": [
    {
     "data": {
      "text/plain": [
       "MinMaxScaler(copy=True, feature_range=(0, 1))"
      ]
     },
     "execution_count": 8,
     "metadata": {},
     "output_type": "execute_result"
    }
   ],
   "source": [
    "scaler.fit(X_train)"
   ]
  },
  {
   "cell_type": "code",
   "execution_count": 9,
   "metadata": {},
   "outputs": [],
   "source": [
    "X_train = scaler.transform(X_train)\n",
    "X_test = scaler.transform(X_test)"
   ]
  },
  {
   "cell_type": "markdown",
   "metadata": {},
   "source": [
    "## Creating the Model"
   ]
  },
  {
   "cell_type": "code",
   "execution_count": 10,
   "metadata": {},
   "outputs": [],
   "source": [
    "import tensorflow as tf\n",
    "from tensorflow.keras.models import Sequential\n",
    "from tensorflow.keras.layers import Dense, Activation,Dropout"
   ]
  },
  {
   "cell_type": "code",
   "execution_count": 11,
   "metadata": {},
   "outputs": [],
   "source": [
    "from tensorflow.keras.callbacks import EarlyStopping,TensorBoard"
   ]
  },
  {
   "cell_type": "code",
   "execution_count": 12,
   "metadata": {},
   "outputs": [],
   "source": [
    "early_stop = EarlyStopping(monitor='val_loss', mode='min', verbose=1, patience=25)"
   ]
  },
  {
   "cell_type": "code",
   "execution_count": 13,
   "metadata": {},
   "outputs": [
    {
     "data": {
      "text/plain": [
       "'C:\\\\Users\\\\HP PROBOOK\\\\Documents\\\\Refactored_Py_DS_ML_Bootcamp-master\\\\22-Deep Learning\\\\TensorFlow_FILES\\\\ANNs'"
      ]
     },
     "execution_count": 13,
     "metadata": {},
     "output_type": "execute_result"
    }
   ],
   "source": [
    "pwd"
   ]
  },
  {
   "cell_type": "markdown",
   "metadata": {},
   "source": [
    "## Creating the Tensorboard Callback\n",
    "\n",
    "TensorBoard is a visualization tool provided with TensorFlow.\n",
    "\n",
    "This callback logs events for TensorBoard, including:\n",
    "* Metrics summary plots\n",
    "* Training graph visualization\n",
    "* Activation histograms\n",
    "* Sampled profiling\n",
    "\n",
    "If you have installed TensorFlow with pip, you should be able\n",
    "to launch TensorBoard from the command line:\n",
    "\n",
    "```sh\n",
    "tensorboard --logdir=path_to_your_logs\n",
    "```\n",
    "\n",
    "You can find more information about TensorBoard\n",
    "[here](https://www.tensorflow.org/tensorboard/).\n",
    "\n",
    "    Arguments:\n",
    "        log_dir: the path of the directory where to save the log files to be\n",
    "          parsed by TensorBoard.\n",
    "        histogram_freq: frequency (in epochs) at which to compute activation and\n",
    "          weight histograms for the layers of the model. If set to 0, histograms\n",
    "          won't be computed. Validation data (or split) must be specified for\n",
    "          histogram visualizations.\n",
    "        write_graph: whether to visualize the graph in TensorBoard. The log file\n",
    "          can become quite large when write_graph is set to True.\n",
    "        write_images: whether to write model weights to visualize as image in\n",
    "          TensorBoard.\n",
    "        update_freq: `'batch'` or `'epoch'` or integer. When using `'batch'`,\n",
    "          writes the losses and metrics to TensorBoard after each batch. The same\n",
    "          applies for `'epoch'`. If using an integer, let's say `1000`, the\n",
    "          callback will write the metrics and losses to TensorBoard every 1000\n",
    "          samples. Note that writing too frequently to TensorBoard can slow down\n",
    "          your training.\n",
    "        profile_batch: Profile the batch to sample compute characteristics. By\n",
    "          default, it will profile the second batch. Set profile_batch=0 to\n",
    "          disable profiling. Must run in TensorFlow eager mode.\n",
    "        embeddings_freq: frequency (in epochs) at which embedding layers will\n",
    "          be visualized. If set to 0, embeddings won't be visualized.\n",
    "       "
   ]
  },
  {
   "cell_type": "code",
   "execution_count": 14,
   "metadata": {},
   "outputs": [],
   "source": [
    "from datetime import datetime"
   ]
  },
  {
   "cell_type": "code",
   "execution_count": 15,
   "metadata": {},
   "outputs": [
    {
     "data": {
      "text/plain": [
       "'2020-09-17--0834'"
      ]
     },
     "execution_count": 15,
     "metadata": {},
     "output_type": "execute_result"
    }
   ],
   "source": [
    "datetime.now().strftime(\"%Y-%m-%d--%H%M\")"
   ]
  },
  {
   "cell_type": "code",
   "execution_count": 16,
   "metadata": {},
   "outputs": [],
   "source": [
    "# WINDOWS: Use \"logs\\\\fit\"\n",
    "# MACOS/LINUX: Use \"logs\\fit\"\n",
    "\n",
    "log_directory = 'logs\\\\fit'\n",
    "\n",
    "# OPTIONAL: ADD A TIMESTAMP FOR UNIQUE FOLDER\n",
    "# timestamp = datetime.now().strftime(\"%Y-%m-%d--%H%M\")\n",
    "# log_directory = log_directory + '\\\\' + timestamp\n",
    "\n",
    "\n",
    "board = TensorBoard(log_dir=log_directory,histogram_freq=1,\n",
    "    write_graph=True,\n",
    "    write_images=True,\n",
    "    update_freq='epoch',\n",
    "    profile_batch=2,\n",
    "    embeddings_freq=1)"
   ]
  },
  {
   "cell_type": "markdown",
   "metadata": {},
   "source": [
    "Now create the model layers:"
   ]
  },
  {
   "cell_type": "code",
   "execution_count": 17,
   "metadata": {},
   "outputs": [],
   "source": [
    "model = Sequential()\n",
    "model.add(Dense(units=30,activation='relu'))\n",
    "model.add(Dropout(0.5))\n",
    "model.add(Dense(units=15,activation='relu'))\n",
    "model.add(Dropout(0.5))\n",
    "model.add(Dense(units=1,activation='sigmoid'))\n",
    "model.compile(loss='binary_crossentropy', optimizer='adam')"
   ]
  },
  {
   "cell_type": "markdown",
   "metadata": {},
   "source": [
    "## Train the Model"
   ]
  },
  {
   "cell_type": "code",
   "execution_count": 18,
   "metadata": {},
   "outputs": [
    {
     "name": "stdout",
     "output_type": "stream",
     "text": [
      "Epoch 1/600\n",
      " 1/14 [=>............................] - ETA: 0s - loss: 0.7819WARNING:tensorflow:From C:\\Users\\HP PROBOOK\\AppData\\Roaming\\Python\\Python37\\site-packages\\tensorflow\\python\\ops\\summary_ops_v2.py:1277: stop (from tensorflow.python.eager.profiler) is deprecated and will be removed after 2020-07-01.\n",
      "Instructions for updating:\n",
      "use `tf.profiler.experimental.stop` instead.\n",
      " 2/14 [===>..........................] - ETA: 1s - loss: 0.7573WARNING:tensorflow:Callbacks method `on_train_batch_end` is slow compared to the batch time (batch time: 0.0080s vs `on_train_batch_end` time: 0.2889s). Check your callbacks.\n",
      "14/14 [==============================] - 1s 49ms/step - loss: 0.7102 - val_loss: 0.6821\n",
      "Epoch 2/600\n",
      "14/14 [==============================] - 0s 9ms/step - loss: 0.6868 - val_loss: 0.6691\n",
      "Epoch 3/600\n",
      "14/14 [==============================] - 0s 8ms/step - loss: 0.6633 - val_loss: 0.6570\n",
      "Epoch 4/600\n",
      "14/14 [==============================] - 0s 8ms/step - loss: 0.6612 - val_loss: 0.6421\n",
      "Epoch 5/600\n",
      "14/14 [==============================] - 0s 9ms/step - loss: 0.6342 - val_loss: 0.6225\n",
      "Epoch 6/600\n",
      "14/14 [==============================] - 0s 9ms/step - loss: 0.6214 - val_loss: 0.6032\n",
      "Epoch 7/600\n",
      "14/14 [==============================] - 0s 9ms/step - loss: 0.6013 - val_loss: 0.5728\n",
      "Epoch 8/600\n",
      "14/14 [==============================] - 0s 9ms/step - loss: 0.5937 - val_loss: 0.5437\n",
      "Epoch 9/600\n",
      "14/14 [==============================] - 0s 8ms/step - loss: 0.5572 - val_loss: 0.5144\n",
      "Epoch 10/600\n",
      "14/14 [==============================] - 0s 9ms/step - loss: 0.5324 - val_loss: 0.4780\n",
      "Epoch 11/600\n",
      "14/14 [==============================] - 0s 9ms/step - loss: 0.5246 - val_loss: 0.4483\n",
      "Epoch 12/600\n",
      "14/14 [==============================] - 0s 9ms/step - loss: 0.5174 - val_loss: 0.4257\n",
      "Epoch 13/600\n",
      "14/14 [==============================] - 0s 9ms/step - loss: 0.4922 - val_loss: 0.3998\n",
      "Epoch 14/600\n",
      "14/14 [==============================] - 0s 11ms/step - loss: 0.4749 - val_loss: 0.3735\n",
      "Epoch 15/600\n",
      "14/14 [==============================] - 0s 11ms/step - loss: 0.4336 - val_loss: 0.3409\n",
      "Epoch 16/600\n",
      "14/14 [==============================] - 0s 8ms/step - loss: 0.4027 - val_loss: 0.3095\n",
      "Epoch 17/600\n",
      "14/14 [==============================] - 0s 9ms/step - loss: 0.3996 - val_loss: 0.2861\n",
      "Epoch 18/600\n",
      "14/14 [==============================] - 0s 9ms/step - loss: 0.3601 - val_loss: 0.2660\n",
      "Epoch 19/600\n",
      "14/14 [==============================] - 0s 9ms/step - loss: 0.3667 - val_loss: 0.2501\n",
      "Epoch 20/600\n",
      "14/14 [==============================] - 0s 8ms/step - loss: 0.3190 - val_loss: 0.2338\n",
      "Epoch 21/600\n",
      "14/14 [==============================] - 0s 10ms/step - loss: 0.3346 - val_loss: 0.2213\n",
      "Epoch 22/600\n",
      "14/14 [==============================] - 0s 9ms/step - loss: 0.3094 - val_loss: 0.2119\n",
      "Epoch 23/600\n",
      "14/14 [==============================] - 0s 9ms/step - loss: 0.3177 - val_loss: 0.2045\n",
      "Epoch 24/600\n",
      "14/14 [==============================] - 0s 8ms/step - loss: 0.2984 - val_loss: 0.1973\n",
      "Epoch 25/600\n",
      "14/14 [==============================] - 0s 9ms/step - loss: 0.2848 - val_loss: 0.1851\n",
      "Epoch 26/600\n",
      "14/14 [==============================] - 0s 9ms/step - loss: 0.2876 - val_loss: 0.1800\n",
      "Epoch 27/600\n",
      "14/14 [==============================] - 0s 9ms/step - loss: 0.2965 - val_loss: 0.1716\n",
      "Epoch 28/600\n",
      "14/14 [==============================] - 0s 10ms/step - loss: 0.2893 - val_loss: 0.1668\n",
      "Epoch 29/600\n",
      "14/14 [==============================] - 0s 10ms/step - loss: 0.2517 - val_loss: 0.1669\n",
      "Epoch 30/600\n",
      "14/14 [==============================] - 0s 8ms/step - loss: 0.2500 - val_loss: 0.1613\n",
      "Epoch 31/600\n",
      "14/14 [==============================] - 0s 9ms/step - loss: 0.2643 - val_loss: 0.1601\n",
      "Epoch 32/600\n",
      "14/14 [==============================] - 0s 9ms/step - loss: 0.2443 - val_loss: 0.1509\n",
      "Epoch 33/600\n",
      "14/14 [==============================] - 0s 9ms/step - loss: 0.2110 - val_loss: 0.1416\n",
      "Epoch 34/600\n",
      "14/14 [==============================] - 0s 8ms/step - loss: 0.2213 - val_loss: 0.1422\n",
      "Epoch 35/600\n",
      "14/14 [==============================] - 0s 8ms/step - loss: 0.2481 - val_loss: 0.1402\n",
      "Epoch 36/600\n",
      "14/14 [==============================] - 0s 9ms/step - loss: 0.2285 - val_loss: 0.1392\n",
      "Epoch 37/600\n",
      "14/14 [==============================] - 0s 9ms/step - loss: 0.2374 - val_loss: 0.1338\n",
      "Epoch 38/600\n",
      "14/14 [==============================] - 0s 9ms/step - loss: 0.2300 - val_loss: 0.1333\n",
      "Epoch 39/600\n",
      "14/14 [==============================] - 0s 8ms/step - loss: 0.2089 - val_loss: 0.1326\n",
      "Epoch 40/600\n",
      "14/14 [==============================] - 0s 8ms/step - loss: 0.2094 - val_loss: 0.1301\n",
      "Epoch 41/600\n",
      "14/14 [==============================] - 0s 9ms/step - loss: 0.2089 - val_loss: 0.1222\n",
      "Epoch 42/600\n",
      "14/14 [==============================] - 0s 10ms/step - loss: 0.1832 - val_loss: 0.1249\n",
      "Epoch 43/600\n",
      "14/14 [==============================] - 0s 10ms/step - loss: 0.1900 - val_loss: 0.1184\n",
      "Epoch 44/600\n",
      "14/14 [==============================] - 0s 9ms/step - loss: 0.2031 - val_loss: 0.1149\n",
      "Epoch 45/600\n",
      "14/14 [==============================] - 0s 10ms/step - loss: 0.1786 - val_loss: 0.1241\n",
      "Epoch 46/600\n",
      "14/14 [==============================] - 0s 9ms/step - loss: 0.1821 - val_loss: 0.1159\n",
      "Epoch 47/600\n",
      "14/14 [==============================] - 0s 26ms/step - loss: 0.1602 - val_loss: 0.1109\n",
      "Epoch 48/600\n",
      "14/14 [==============================] - 0s 12ms/step - loss: 0.1784 - val_loss: 0.1071\n",
      "Epoch 49/600\n",
      "14/14 [==============================] - 0s 8ms/step - loss: 0.1712 - val_loss: 0.1114\n",
      "Epoch 50/600\n",
      "14/14 [==============================] - 0s 8ms/step - loss: 0.1854 - val_loss: 0.1186\n",
      "Epoch 51/600\n",
      "14/14 [==============================] - 0s 9ms/step - loss: 0.1704 - val_loss: 0.1103\n",
      "Epoch 52/600\n",
      "14/14 [==============================] - 0s 9ms/step - loss: 0.1597 - val_loss: 0.1056\n",
      "Epoch 53/600\n",
      "14/14 [==============================] - 0s 9ms/step - loss: 0.1801 - val_loss: 0.1055\n",
      "Epoch 54/600\n",
      "14/14 [==============================] - 0s 7ms/step - loss: 0.1503 - val_loss: 0.1101\n",
      "Epoch 55/600\n",
      "14/14 [==============================] - 0s 7ms/step - loss: 0.1784 - val_loss: 0.1034\n",
      "Epoch 56/600\n",
      "14/14 [==============================] - 0s 8ms/step - loss: 0.1584 - val_loss: 0.1142\n",
      "Epoch 57/600\n",
      "14/14 [==============================] - 0s 8ms/step - loss: 0.1502 - val_loss: 0.1071\n",
      "Epoch 58/600\n",
      "14/14 [==============================] - 0s 8ms/step - loss: 0.1546 - val_loss: 0.1010\n",
      "Epoch 59/600\n",
      "14/14 [==============================] - 0s 7ms/step - loss: 0.1508 - val_loss: 0.1222\n",
      "Epoch 60/600\n",
      "14/14 [==============================] - 0s 9ms/step - loss: 0.1581 - val_loss: 0.1008\n",
      "Epoch 61/600\n",
      "14/14 [==============================] - 0s 7ms/step - loss: 0.1818 - val_loss: 0.0994\n",
      "Epoch 62/600\n",
      "14/14 [==============================] - 0s 7ms/step - loss: 0.1654 - val_loss: 0.1060\n",
      "Epoch 63/600\n",
      "14/14 [==============================] - 0s 7ms/step - loss: 0.1544 - val_loss: 0.1049\n",
      "Epoch 64/600\n",
      "14/14 [==============================] - 0s 9ms/step - loss: 0.1483 - val_loss: 0.0993\n",
      "Epoch 65/600\n",
      "14/14 [==============================] - 0s 9ms/step - loss: 0.1605 - val_loss: 0.1204\n",
      "Epoch 66/600\n",
      "14/14 [==============================] - 0s 8ms/step - loss: 0.1582 - val_loss: 0.0978\n",
      "Epoch 67/600\n",
      "14/14 [==============================] - 0s 9ms/step - loss: 0.1430 - val_loss: 0.0984\n",
      "Epoch 68/600\n",
      "14/14 [==============================] - 0s 8ms/step - loss: 0.1293 - val_loss: 0.1005\n",
      "Epoch 69/600\n",
      "14/14 [==============================] - 0s 8ms/step - loss: 0.1458 - val_loss: 0.1093\n",
      "Epoch 70/600\n",
      "14/14 [==============================] - 0s 8ms/step - loss: 0.1321 - val_loss: 0.0959\n",
      "Epoch 71/600\n",
      "14/14 [==============================] - 0s 7ms/step - loss: 0.1360 - val_loss: 0.1067\n",
      "Epoch 72/600\n",
      "14/14 [==============================] - 0s 9ms/step - loss: 0.1424 - val_loss: 0.0949\n",
      "Epoch 73/600\n",
      "14/14 [==============================] - 0s 8ms/step - loss: 0.1130 - val_loss: 0.0913\n",
      "Epoch 74/600\n",
      "14/14 [==============================] - 0s 7ms/step - loss: 0.1529 - val_loss: 0.1073\n",
      "Epoch 75/600\n",
      "14/14 [==============================] - 0s 7ms/step - loss: 0.1316 - val_loss: 0.1011\n",
      "Epoch 76/600\n",
      "14/14 [==============================] - 0s 7ms/step - loss: 0.1358 - val_loss: 0.0922\n"
     ]
    },
    {
     "name": "stdout",
     "output_type": "stream",
     "text": [
      "Epoch 77/600\n",
      "14/14 [==============================] - 0s 7ms/step - loss: 0.1339 - val_loss: 0.1025\n",
      "Epoch 78/600\n",
      "14/14 [==============================] - 0s 7ms/step - loss: 0.1191 - val_loss: 0.0965\n",
      "Epoch 79/600\n",
      "14/14 [==============================] - 0s 8ms/step - loss: 0.1491 - val_loss: 0.0945\n",
      "Epoch 80/600\n",
      "14/14 [==============================] - 0s 7ms/step - loss: 0.1126 - val_loss: 0.0935\n",
      "Epoch 81/600\n",
      "14/14 [==============================] - 0s 8ms/step - loss: 0.1230 - val_loss: 0.0958\n",
      "Epoch 82/600\n",
      "14/14 [==============================] - 0s 9ms/step - loss: 0.1283 - val_loss: 0.1019\n",
      "Epoch 83/600\n",
      "14/14 [==============================] - 0s 8ms/step - loss: 0.1204 - val_loss: 0.0896\n",
      "Epoch 84/600\n",
      "14/14 [==============================] - 0s 8ms/step - loss: 0.1282 - val_loss: 0.0984\n",
      "Epoch 85/600\n",
      "14/14 [==============================] - 0s 8ms/step - loss: 0.1067 - val_loss: 0.1020\n",
      "Epoch 86/600\n",
      "14/14 [==============================] - 0s 8ms/step - loss: 0.1303 - val_loss: 0.1172\n",
      "Epoch 87/600\n",
      "14/14 [==============================] - 0s 8ms/step - loss: 0.1210 - val_loss: 0.0990\n",
      "Epoch 88/600\n",
      "14/14 [==============================] - 0s 8ms/step - loss: 0.1169 - val_loss: 0.0932\n",
      "Epoch 89/600\n",
      "14/14 [==============================] - 0s 8ms/step - loss: 0.1315 - val_loss: 0.0909\n",
      "Epoch 90/600\n",
      "14/14 [==============================] - 0s 7ms/step - loss: 0.1166 - val_loss: 0.0972\n",
      "Epoch 91/600\n",
      "14/14 [==============================] - 0s 7ms/step - loss: 0.1121 - val_loss: 0.1088\n",
      "Epoch 92/600\n",
      "14/14 [==============================] - 0s 7ms/step - loss: 0.1373 - val_loss: 0.0917\n",
      "Epoch 93/600\n",
      "14/14 [==============================] - 0s 9ms/step - loss: 0.1150 - val_loss: 0.0900\n",
      "Epoch 94/600\n",
      "14/14 [==============================] - 0s 8ms/step - loss: 0.1209 - val_loss: 0.0947\n",
      "Epoch 95/600\n",
      "14/14 [==============================] - 0s 8ms/step - loss: 0.1046 - val_loss: 0.1060\n",
      "Epoch 96/600\n",
      "14/14 [==============================] - 0s 8ms/step - loss: 0.1099 - val_loss: 0.0999\n",
      "Epoch 97/600\n",
      "14/14 [==============================] - 0s 8ms/step - loss: 0.1041 - val_loss: 0.1028\n",
      "Epoch 98/600\n",
      "14/14 [==============================] - 0s 9ms/step - loss: 0.1325 - val_loss: 0.1059\n",
      "Epoch 99/600\n",
      "14/14 [==============================] - 0s 8ms/step - loss: 0.0976 - val_loss: 0.0961\n",
      "Epoch 100/600\n",
      "14/14 [==============================] - 0s 8ms/step - loss: 0.1164 - val_loss: 0.0928\n",
      "Epoch 101/600\n",
      "14/14 [==============================] - 0s 7ms/step - loss: 0.1109 - val_loss: 0.1026\n",
      "Epoch 102/600\n",
      "14/14 [==============================] - 0s 8ms/step - loss: 0.1075 - val_loss: 0.0994\n",
      "Epoch 103/600\n",
      "14/14 [==============================] - 0s 8ms/step - loss: 0.1185 - val_loss: 0.1009\n",
      "Epoch 104/600\n",
      "14/14 [==============================] - 0s 10ms/step - loss: 0.1014 - val_loss: 0.0956\n",
      "Epoch 105/600\n",
      "14/14 [==============================] - 0s 9ms/step - loss: 0.1094 - val_loss: 0.0993\n",
      "Epoch 106/600\n",
      "14/14 [==============================] - 0s 8ms/step - loss: 0.0902 - val_loss: 0.0879\n",
      "Epoch 107/600\n",
      "14/14 [==============================] - 0s 7ms/step - loss: 0.1074 - val_loss: 0.1011\n",
      "Epoch 108/600\n",
      "14/14 [==============================] - 0s 7ms/step - loss: 0.1089 - val_loss: 0.1026\n",
      "Epoch 109/600\n",
      "14/14 [==============================] - 0s 7ms/step - loss: 0.0988 - val_loss: 0.0912\n",
      "Epoch 110/600\n",
      "14/14 [==============================] - 0s 8ms/step - loss: 0.1195 - val_loss: 0.0864\n",
      "Epoch 111/600\n",
      "14/14 [==============================] - 0s 8ms/step - loss: 0.1105 - val_loss: 0.0919\n",
      "Epoch 112/600\n",
      "14/14 [==============================] - 0s 7ms/step - loss: 0.1141 - val_loss: 0.1051\n",
      "Epoch 113/600\n",
      "14/14 [==============================] - 0s 8ms/step - loss: 0.1059 - val_loss: 0.0936\n",
      "Epoch 114/600\n",
      "14/14 [==============================] - 0s 10ms/step - loss: 0.0904 - val_loss: 0.0891\n",
      "Epoch 115/600\n",
      "14/14 [==============================] - 0s 7ms/step - loss: 0.1034 - val_loss: 0.1033\n",
      "Epoch 116/600\n",
      "14/14 [==============================] - 0s 7ms/step - loss: 0.1157 - val_loss: 0.0859\n",
      "Epoch 117/600\n",
      "14/14 [==============================] - 0s 7ms/step - loss: 0.0983 - val_loss: 0.0901\n",
      "Epoch 118/600\n",
      "14/14 [==============================] - 0s 7ms/step - loss: 0.1118 - val_loss: 0.0981\n",
      "Epoch 119/600\n",
      "14/14 [==============================] - 0s 7ms/step - loss: 0.1127 - val_loss: 0.1025\n",
      "Epoch 120/600\n",
      "14/14 [==============================] - 0s 7ms/step - loss: 0.0993 - val_loss: 0.0918\n",
      "Epoch 121/600\n",
      "14/14 [==============================] - 0s 8ms/step - loss: 0.0975 - val_loss: 0.0930\n",
      "Epoch 122/600\n",
      "14/14 [==============================] - 0s 8ms/step - loss: 0.0979 - val_loss: 0.1150\n",
      "Epoch 123/600\n",
      "14/14 [==============================] - 0s 7ms/step - loss: 0.1147 - val_loss: 0.1009\n",
      "Epoch 124/600\n",
      "14/14 [==============================] - 0s 8ms/step - loss: 0.1051 - val_loss: 0.0978\n",
      "Epoch 125/600\n",
      "14/14 [==============================] - 0s 8ms/step - loss: 0.1129 - val_loss: 0.1036\n",
      "Epoch 126/600\n",
      "14/14 [==============================] - 0s 8ms/step - loss: 0.0875 - val_loss: 0.1023\n",
      "Epoch 127/600\n",
      "14/14 [==============================] - 0s 7ms/step - loss: 0.0983 - val_loss: 0.0929\n",
      "Epoch 128/600\n",
      "14/14 [==============================] - 0s 7ms/step - loss: 0.1077 - val_loss: 0.1230\n",
      "Epoch 129/600\n",
      "14/14 [==============================] - 0s 8ms/step - loss: 0.0997 - val_loss: 0.0905\n",
      "Epoch 130/600\n",
      "14/14 [==============================] - 0s 8ms/step - loss: 0.1106 - val_loss: 0.0973\n",
      "Epoch 131/600\n",
      "14/14 [==============================] - 0s 7ms/step - loss: 0.0848 - val_loss: 0.0948\n",
      "Epoch 132/600\n",
      "14/14 [==============================] - 0s 7ms/step - loss: 0.0922 - val_loss: 0.0883\n",
      "Epoch 133/600\n",
      "14/14 [==============================] - 0s 6ms/step - loss: 0.1088 - val_loss: 0.0952\n",
      "Epoch 134/600\n",
      "14/14 [==============================] - 0s 7ms/step - loss: 0.0986 - val_loss: 0.1009\n",
      "Epoch 135/600\n",
      "14/14 [==============================] - 0s 7ms/step - loss: 0.0867 - val_loss: 0.0918\n",
      "Epoch 136/600\n",
      "14/14 [==============================] - 0s 7ms/step - loss: 0.0852 - val_loss: 0.1069\n",
      "Epoch 137/600\n",
      "14/14 [==============================] - 0s 7ms/step - loss: 0.0963 - val_loss: 0.1080\n",
      "Epoch 138/600\n",
      "14/14 [==============================] - 0s 7ms/step - loss: 0.0964 - val_loss: 0.0928\n",
      "Epoch 139/600\n",
      "14/14 [==============================] - 0s 8ms/step - loss: 0.1022 - val_loss: 0.0904\n",
      "Epoch 140/600\n",
      "14/14 [==============================] - 0s 8ms/step - loss: 0.0889 - val_loss: 0.0864\n",
      "Epoch 141/600\n",
      "14/14 [==============================] - 0s 8ms/step - loss: 0.0786 - val_loss: 0.0895\n",
      "Epoch 00141: early stopping\n"
     ]
    },
    {
     "data": {
      "text/plain": [
       "<tensorflow.python.keras.callbacks.History at 0x1d28bf8d608>"
      ]
     },
     "execution_count": 18,
     "metadata": {},
     "output_type": "execute_result"
    }
   ],
   "source": [
    "model.fit(x=X_train, \n",
    "          y=y_train, \n",
    "          epochs=600,\n",
    "          validation_data=(X_test, y_test), verbose=1,\n",
    "          callbacks=[early_stop,board]\n",
    "          )"
   ]
  },
  {
   "cell_type": "markdown",
   "metadata": {},
   "source": [
    "# Running Tensorboard\n"
   ]
  },
  {
   "cell_type": "markdown",
   "metadata": {},
   "source": [
    "## Running through the Command Line\n",
    "\n",
    "**Watch video to see how to run Tensorboard through a command line call.**"
   ]
  },
  {
   "cell_type": "markdown",
   "metadata": {},
   "source": [
    "Tensorboard will run locally in your browser at [http://localhost:6006/](http://localhost:6006/)\n"
   ]
  },
  {
   "cell_type": "code",
   "execution_count": 19,
   "metadata": {},
   "outputs": [
    {
     "name": "stdout",
     "output_type": "stream",
     "text": [
      "logs\\fit\n"
     ]
    }
   ],
   "source": [
    "print(log_directory)"
   ]
  },
  {
   "cell_type": "code",
   "execution_count": 20,
   "metadata": {},
   "outputs": [
    {
     "data": {
      "text/plain": [
       "'C:\\\\Users\\\\HP PROBOOK\\\\Documents\\\\Refactored_Py_DS_ML_Bootcamp-master\\\\22-Deep Learning\\\\TensorFlow_FILES\\\\ANNs'"
      ]
     },
     "execution_count": 20,
     "metadata": {},
     "output_type": "execute_result"
    }
   ],
   "source": [
    "pwd"
   ]
  },
  {
   "cell_type": "markdown",
   "metadata": {},
   "source": [
    "### Use cd at your command line to change directory to the file path reported back by pwd or your current .py file location.\n",
    "### Then run this code at your command line or terminal"
   ]
  },
  {
   "cell_type": "code",
   "execution_count": null,
   "metadata": {},
   "outputs": [],
   "source": [
    "tensorboard --logdir logs\\fit"
   ]
  }
 ],
 "metadata": {
  "kernelspec": {
   "display_name": "Python 3",
   "language": "python",
   "name": "python3"
  },
  "language_info": {
   "codemirror_mode": {
    "name": "ipython",
    "version": 3
   },
   "file_extension": ".py",
   "mimetype": "text/x-python",
   "name": "python",
   "nbconvert_exporter": "python",
   "pygments_lexer": "ipython3",
   "version": "3.7.4"
  }
 },
 "nbformat": 4,
 "nbformat_minor": 2
}
